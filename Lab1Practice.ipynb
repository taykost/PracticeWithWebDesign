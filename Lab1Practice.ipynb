{
  "nbformat": 4,
  "nbformat_minor": 0,
  "metadata": {
    "colab": {
      "name": "Lab1Practice.ipynb",
      "provenance": [],
      "collapsed_sections": [],
      "authorship_tag": "ABX9TyMxF7T4tYEv3JwBkMLw0zvk",
      "include_colab_link": true
    },
    "kernelspec": {
      "name": "python3",
      "display_name": "Python 3"
    }
  },
  "cells": [
    {
      "cell_type": "markdown",
      "metadata": {
        "id": "view-in-github",
        "colab_type": "text"
      },
      "source": [
        "<a href=\"https://colab.research.google.com/github/taykost/PracticeWithWebDesign/blob/master/Lab1Practice.ipynb\" target=\"_parent\"><img src=\"https://colab.research.google.com/assets/colab-badge.svg\" alt=\"Open In Colab\"/></a>"
      ]
    },
    {
      "cell_type": "markdown",
      "metadata": {
        "id": "3xKr4unCu7zR",
        "colab_type": "text"
      },
      "source": [
        "## Do you like using Jupyter Notebooks?"
      ]
    },
    {
      "cell_type": "markdown",
      "metadata": {
        "id": "6KwQB6szvIx3",
        "colab_type": "text"
      },
      "source": [
        "So far, using Jupyter Notebooks is interesting since I have never used it before. I have only ever used WordPress, WIX, Sublime Text or Visual Studio Code to design websites. I think it would be neat to design a website ON a website!"
      ]
    },
    {
      "cell_type": "markdown",
      "metadata": {
        "id": "J-lrOFlGvYir",
        "colab_type": "text"
      },
      "source": [
        "## What do you want to learn more about in Jupyter Notebooks?"
      ]
    },
    {
      "cell_type": "markdown",
      "metadata": {
        "id": "uNI4M9ySvczU",
        "colab_type": "text"
      },
      "source": [
        "When doing some research on the Jupyter website, I noticed there are some widgets that are able to be used. I would like to learn more about how to use and implement these into the code I write."
      ]
    },
    {
      "cell_type": "markdown",
      "metadata": {
        "id": "2LaDIpA2vfGk",
        "colab_type": "text"
      },
      "source": [
        "![My dog Hershey](https://raw.githubusercontent.com/taykost/PracticeWithWebDesign/master/Images/IMG_1095.JPG)"
      ]
    }
  ]
}